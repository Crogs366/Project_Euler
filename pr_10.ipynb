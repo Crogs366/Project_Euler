{
 "metadata": {
  "language_info": {
   "codemirror_mode": {
    "name": "ipython",
    "version": 3
   },
   "file_extension": ".py",
   "mimetype": "text/x-python",
   "name": "python",
   "nbconvert_exporter": "python",
   "pygments_lexer": "ipython3",
   "version": "3.8.2-final"
  },
  "orig_nbformat": 2,
  "kernelspec": {
   "name": "python38232bit3db169014aea48db84573a3599a11904",
   "display_name": "Python 3.8.2 32-bit"
  }
 },
 "nbformat": 4,
 "nbformat_minor": 2,
 "cells": [
  {
   "cell_type": "code",
   "execution_count": 3,
   "metadata": {
    "tags": []
   },
   "outputs": [
    {
     "output_type": "stream",
     "name": "stdout",
     "text": "17\n"
    }
   ],
   "source": [
    "sum = 0\n",
    "symbol = '245680'\n",
    "for i in range(2, 2000000):\n",
    "    for j in range(2, i):\n",
    "        if str(i)[::-1] in symbol or i % j == 0:\n",
    "            break\n",
    "    else:\n",
    "        sum += i \n",
    "print(sum)"
   ]
  },
  {
   "cell_type": "code",
   "execution_count": 6,
   "metadata": {
    "tags": []
   },
   "outputs": [
    {
     "output_type": "stream",
     "name": "stdout",
     "text": "142913828922\n"
    }
   ],
   "source": [
    "list_all = []\n",
    "list_primes = []\n",
    "p = 2\n",
    "n = 2000000\n",
    "for i in range(2, n):\n",
    "    list_all.append(i)\n",
    "\n",
    "for i in list_all:\n",
    "    if i ** 2 > n:\n",
    "        break\n",
    "    if i == 0:\n",
    "        continue\n",
    "    else:\n",
    "        p = list_all.index(i**2)\n",
    "        for j in range(p, len(list_all), i):\n",
    "            list_all[j] = 0\n",
    "            \n",
    "for i in list_all:\n",
    "    if i != 0:\n",
    "        list_primes.append(i)      \n",
    "print(sum(list_primes))"
   ]
  },
  {
   "cell_type": "code",
   "execution_count": null,
   "metadata": {},
   "outputs": [],
   "source": []
  }
 ]
}