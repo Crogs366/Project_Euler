{
 "metadata": {
  "language_info": {
   "codemirror_mode": {
    "name": "ipython",
    "version": 3
   },
   "file_extension": ".py",
   "mimetype": "text/x-python",
   "name": "python",
   "nbconvert_exporter": "python",
   "pygments_lexer": "ipython3",
   "version": "3.7.3-final"
  },
  "orig_nbformat": 2,
  "kernelspec": {
   "name": "python37364bitprogramsvirtualenv434a7dfbea7348cbb5e5dfe0e3e5bd70",
   "display_name": "Python 3.7.3 64-bit ('programs': virtualenv)"
  }
 },
 "nbformat": 4,
 "nbformat_minor": 2,
 "cells": [
  {
   "cell_type": "code",
   "execution_count": null,
   "metadata": {},
   "outputs": [],
   "source": [
    "number = 1\n",
    "circle = 1\n",
    "count = 0\n",
    "while count <= 500:\n",
    "    circle += 1\n",
    "    for i in range (1, number + 1):\n",
    "        if i > number / 2:\n",
    "            count +=1\n",
    "            break\n",
    "        if number % i == 0:\n",
    "            count += 1\n",
    "    if count < 501:\n",
    "        number += circle\n",
    "        count = 0\n",
    "print(number)"
   ]
  },
  {
   "cell_type": "code",
   "execution_count": null,
   "metadata": {},
   "outputs": [],
   "source": []
  }
 ]
}