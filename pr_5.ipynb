{
 "metadata": {
  "language_info": {
   "codemirror_mode": {
    "name": "ipython",
    "version": 3
   },
   "file_extension": ".py",
   "mimetype": "text/x-python",
   "name": "python",
   "nbconvert_exporter": "python",
   "pygments_lexer": "ipython3",
   "version": "3.8.2-final"
  },
  "orig_nbformat": 2,
  "kernelspec": {
   "name": "python38232bit3db169014aea48db84573a3599a11904",
   "display_name": "Python 3.8.2 32-bit"
  }
 },
 "nbformat": 4,
 "nbformat_minor": 2,
 "cells": [
  {
   "cell_type": "code",
   "execution_count": 1,
   "metadata": {
    "tags": []
   },
   "outputs": [
    {
     "output_type": "stream",
     "name": "stdout",
     "text": "232792560\n"
    }
   ],
   "source": [
    "number = 20\n",
    "count = 1\n",
    "count_max = 0\n",
    "while count_max != 20:\n",
    "    for i in range(1, 21):\n",
    "        if number % i == 0:\n",
    "            count_max +=1\n",
    "            if count_max == 20:\n",
    "                print(number)\n",
    "                break\n",
    "        else:\n",
    "            count_max = 0\n",
    "            break\n",
    "    number += 20   \n",
    "            "
   ]
  },
  {
   "cell_type": "code",
   "execution_count": null,
   "metadata": {},
   "outputs": [],
   "source": []
  }
 ]
}