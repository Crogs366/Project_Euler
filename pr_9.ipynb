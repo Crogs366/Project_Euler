{
 "metadata": {
  "language_info": {
   "codemirror_mode": {
    "name": "ipython",
    "version": 3
   },
   "file_extension": ".py",
   "mimetype": "text/x-python",
   "name": "python",
   "nbconvert_exporter": "python",
   "pygments_lexer": "ipython3",
   "version": "3.8.2-final"
  },
  "orig_nbformat": 2,
  "kernelspec": {
   "name": "python38232bit3db169014aea48db84573a3599a11904",
   "display_name": "Python 3.8.2 32-bit"
  }
 },
 "nbformat": 4,
 "nbformat_minor": 2,
 "cells": [
  {
   "cell_type": "code",
   "execution_count": 2,
   "metadata": {
    "tags": []
   },
   "outputs": [
    {
     "output_type": "stream",
     "name": "stdout",
     "text": "31875000.0\n31875000.0\n"
    }
   ],
   "source": [
    "number = 0\n",
    "c = 0\n",
    "while number != 1000:\n",
    "    for a in range (1, 1000):\n",
    "        for b in range (1, 1000):\n",
    "            c = (a ** 2 + b ** 2) ** 0.5\n",
    "            if (a + b + c) == 1000:\n",
    "                number = a + b + c\n",
    "                print(a * b * c)\n",
    "                break"
   ]
  },
  {
   "cell_type": "code",
   "execution_count": null,
   "metadata": {},
   "outputs": [],
   "source": []
  }
 ]
}